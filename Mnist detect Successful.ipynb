{
 "cells": [
  {
   "cell_type": "code",
   "execution_count": 1,
   "metadata": {},
   "outputs": [
    {
     "name": "stdout",
     "output_type": "stream",
     "text": [
      "(10000, 28, 28)\n",
      "(10000,)\n",
      "X_test_2D:  (10000, 784)\n",
      "Epoch 1/10\n",
      "60/60 - 0s - loss: 0.7871 - accuracy: 0.8125 - val_loss: 0.3252 - val_accuracy: 0.9120\n",
      "Epoch 2/10\n",
      "60/60 - 0s - loss: 0.3011 - accuracy: 0.9144 - val_loss: 0.2521 - val_accuracy: 0.9293\n",
      "Epoch 3/10\n",
      "60/60 - 0s - loss: 0.2384 - accuracy: 0.9334 - val_loss: 0.2099 - val_accuracy: 0.9420\n",
      "Epoch 4/10\n",
      "60/60 - 0s - loss: 0.1957 - accuracy: 0.9451 - val_loss: 0.1766 - val_accuracy: 0.9523\n",
      "Epoch 5/10\n",
      "60/60 - 0s - loss: 0.1659 - accuracy: 0.9541 - val_loss: 0.1593 - val_accuracy: 0.9557\n",
      "Epoch 6/10\n",
      "60/60 - 0s - loss: 0.1426 - accuracy: 0.9598 - val_loss: 0.1446 - val_accuracy: 0.9605\n",
      "Epoch 7/10\n",
      "60/60 - 0s - loss: 0.1247 - accuracy: 0.9653 - val_loss: 0.1338 - val_accuracy: 0.9611\n",
      "Epoch 8/10\n",
      "60/60 - 0s - loss: 0.1101 - accuracy: 0.9694 - val_loss: 0.1243 - val_accuracy: 0.9647\n",
      "Epoch 9/10\n",
      "60/60 - 0s - loss: 0.0982 - accuracy: 0.9728 - val_loss: 0.1184 - val_accuracy: 0.9660\n",
      "Epoch 10/10\n",
      "60/60 - 0s - loss: 0.0884 - accuracy: 0.9755 - val_loss: 0.1137 - val_accuracy: 0.9671\n",
      "313/313 [==============================] - 0s 781us/step - loss: 0.1064 - accuracy: 0.9690\n",
      "\n",
      "\t[Info] Accuracy of testing data = 96.9%\n"
     ]
    }
   ],
   "source": [
    "import numpy as np\n",
    "from keras.models import Sequential\n",
    "from keras.datasets import mnist\n",
    "from keras.layers import Dense, Dropout, Activation, Flatten\n",
    "from keras.utils import np_utils  # 用來後續將 label 標籤轉為 one-hot-encoding\n",
    "from matplotlib import pyplot as plt\n",
    "import cv2\n",
    "\n",
    "# 載入 MNIST 資料庫的訓練資料，並自動分為『訓練組』及『測試組』\n",
    "(X_train, y_train), (X_test, y_test) = mnist.load_data()\n",
    "\n",
    "print(X_test.shape)\n",
    "print(y_test.shape)\n",
    "\n",
    "#cv2.imwrite('C:/Users/User/Desktop/output.jpg', X_test[1])\n",
    "\n",
    "# 建立簡單的線性執行的模型\n",
    "model = Sequential()\n",
    "\n",
    "# Add Input layer, 隱藏層(hidden layer) 有 256個輸出變數\n",
    "model.add(Dense(units=256, input_dim=784, kernel_initializer='normal', activation='relu'))\n",
    "# Add output layer\n",
    "model.add(Dense(units=10, kernel_initializer='normal', activation='softmax'))\n",
    "\n",
    "# 編譯: 選擇損失函數、優化方法及成效衡量方式\n",
    "model.compile(loss='categorical_crossentropy', optimizer='adam', metrics=['accuracy'])\n",
    "\n",
    "# 將 training 的 label 進行 one-hot encoding，例如數字 7 經過 One-hot encoding 轉換後是 0000001000，即第7個值為 1\n",
    "y_TrainOneHot = np_utils.to_categorical(y_train)\n",
    "y_TestOneHot = np_utils.to_categorical(y_test)\n",
    "\n",
    "# 將 training 的 input 資料轉為2維\n",
    "X_train_2D = X_train.reshape(60000, 28*28).astype('float32')\n",
    "X_test_2D = X_test.reshape(10000, 28*28).astype('float32')\n",
    "\n",
    "print(\"X_test_2D: \",X_test_2D.shape)\n",
    "\n",
    "x_Train_norm = X_train_2D/255\n",
    "x_Test_norm = X_test_2D/255\n",
    "\n",
    "# 進行訓練, 訓練過程會存在 train_history 變數中\n",
    "train_history = model.fit(x=x_Train_norm, y=y_TrainOneHot, validation_split=0.2, epochs=10, batch_size=800, verbose=2)\n",
    "\n",
    "# 顯示訓練成果(分數)\n",
    "scores = model.evaluate(x_Test_norm, y_TestOneHot)\n",
    "print()\n",
    "print(\"\\t[Info] Accuracy of testing data = {:2.1f}%\".format(scores[1]*100.0))\n",
    "\n",
    "\n"
   ]
  },
  {
   "cell_type": "code",
   "execution_count": 8,
   "metadata": {},
   "outputs": [
    {
     "name": "stdout",
     "output_type": "stream",
     "text": [
      "[7 2 1 0 4 1 4 9 6 9]\n",
      "[5]\n"
     ]
    }
   ],
   "source": [
    "# 預測(prediction)\n",
    "X = x_Test_norm[0:10,:]\n",
    "predictions = model.predict_classes(X)\n",
    "# get prediction result\n",
    "print(predictions)\n",
    "\n",
    "img=cv2.imread('desktop/5.png', cv2.IMREAD_GRAYSCALE)\n",
    "crop_size = (28, 28)\n",
    "img = cv2.resize(img, crop_size, interpolation = cv2.INTER_CUBIC)\n",
    "\n",
    "\n",
    "\n",
    "img_2D = img.reshape(1,28*28).astype('float32')\n",
    "img_norm=img_2D/255\n",
    "img = img_norm\n",
    "\n",
    "predictions = model.predict_classes(img)\n",
    "# get prediction result\n",
    "print(predictions)\n",
    "\n"
   ]
  },
  {
   "cell_type": "code",
   "execution_count": 9,
   "metadata": {},
   "outputs": [],
   "source": [
    "import matplotlib.pyplot as plt"
   ]
  },
  {
   "cell_type": "code",
   "execution_count": 30,
   "metadata": {},
   "outputs": [
    {
     "name": "stdout",
     "output_type": "stream",
     "text": [
      "[0. 0. 0. 0. 0. 0. 0. 0. 0. 1.]\n"
     ]
    }
   ],
   "source": [
    "\n",
    "print(y_TestOneHot[1000])"
   ]
  },
  {
   "cell_type": "code",
   "execution_count": 20,
   "metadata": {},
   "outputs": [
    {
     "data": {
      "text/plain": [
       "(10000, 784)"
      ]
     },
     "execution_count": 20,
     "metadata": {},
     "output_type": "execute_result"
    }
   ],
   "source": [
    "x_Test_norm.shape"
   ]
  },
  {
   "cell_type": "code",
   "execution_count": null,
   "metadata": {},
   "outputs": [],
   "source": []
  }
 ],
 "metadata": {
  "kernelspec": {
   "display_name": "Python 3",
   "language": "python",
   "name": "python3"
  },
  "language_info": {
   "codemirror_mode": {
    "name": "ipython",
    "version": 3
   },
   "file_extension": ".py",
   "mimetype": "text/x-python",
   "name": "python",
   "nbconvert_exporter": "python",
   "pygments_lexer": "ipython3",
   "version": "3.7.6"
  }
 },
 "nbformat": 4,
 "nbformat_minor": 4
}
